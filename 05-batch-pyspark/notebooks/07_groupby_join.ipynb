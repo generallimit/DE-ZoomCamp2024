{
 "cells": [
  {
   "cell_type": "code",
   "execution_count": 1,
   "id": "7b7f9488-7d3d-40af-819b-02fa03c3e59d",
   "metadata": {},
   "outputs": [],
   "source": [
    "import pyspark\n",
    "from pyspark.sql import SparkSession, types\n",
    "from pyspark.sql import functions as F\n",
    "from pyspark.sql.functions import sha2, concat_ws"
   ]
  },
  {
   "cell_type": "code",
   "execution_count": 2,
   "id": "7c3b56c8-06df-4eea-99ae-25c8053a2b9c",
   "metadata": {},
   "outputs": [],
   "source": [
    "spark = SparkSession.builder \\\n",
    "    .master(\"spark://192.168.86.51:7077\") \\\n",
    "    .appName('test') \\\n",
    "    .getOrCreate()"
   ]
  },
  {
   "cell_type": "code",
   "execution_count": 3,
   "id": "7eb0e45e-e4c1-45e9-90ab-f41c3d6b0714",
   "metadata": {},
   "outputs": [
    {
     "data": {
      "text/html": [
       "\n",
       "        <div>\n",
       "            <p><b>SparkContext</b></p>\n",
       "\n",
       "            <p><a href=\"http://host.docker.internal:4041\">Spark UI</a></p>\n",
       "\n",
       "            <dl>\n",
       "              <dt>Version</dt>\n",
       "                <dd><code>v3.5.0</code></dd>\n",
       "              <dt>Master</dt>\n",
       "                <dd><code>spark://192.168.86.51:7077</code></dd>\n",
       "              <dt>AppName</dt>\n",
       "                <dd><code>test</code></dd>\n",
       "            </dl>\n",
       "        </div>\n",
       "        "
      ],
      "text/plain": [
       "<SparkContext master=spark://192.168.86.51:7077 appName=test>"
      ]
     },
     "execution_count": 3,
     "metadata": {},
     "output_type": "execute_result"
    }
   ],
   "source": [
    "spark.sparkContext"
   ]
  },
  {
   "cell_type": "code",
   "execution_count": 4,
   "id": "b982c509-703a-4174-9a8b-299c08dced63",
   "metadata": {},
   "outputs": [],
   "source": [
    "df_green = spark.read.parquet('data/pq/green/*/*')"
   ]
  },
  {
   "cell_type": "code",
   "execution_count": 5,
   "id": "aebb068f-aafc-408f-84d9-9875408c24df",
   "metadata": {},
   "outputs": [],
   "source": [
    "df_green = df_green.withColumnRenamed('lpep_pickup_datetime', 'pickup_datetime') \\\n",
    "                    .withColumnRenamed('lpep_dropoff_datetime', 'dropoff_datetime')"
   ]
  },
  {
   "cell_type": "code",
   "execution_count": 6,
   "id": "9e9c6168-690e-4e01-86f3-9ef5f548ac48",
   "metadata": {},
   "outputs": [],
   "source": [
    "df_green.createOrReplaceTempView(\"green\")"
   ]
  },
  {
   "cell_type": "code",
   "execution_count": 7,
   "id": "4a66ba8a-8c99-4e77-8f61-bcb9a47a550b",
   "metadata": {},
   "outputs": [],
   "source": [
    "df_green_revenue = spark.sql(\"\"\"\n",
    "                        SELECT \n",
    "                            PULocationID AS revenue_zone,\n",
    "                            date_trunc('hour', pickup_datetime) AS revenue_hour, \n",
    "                            SUM(total_amount) AS amount,\n",
    "                            COUNT(*) AS number_records\n",
    "                        FROM green\n",
    "                        WHERE pickup_datetime >= '2020-01-01'\n",
    "                        GROUP BY \n",
    "                        \trevenue_zone,\n",
    "                        \trevenue_hour\n",
    "                    \"\"\")"
   ]
  },
  {
   "cell_type": "code",
   "execution_count": 8,
   "id": "15bb95cc-8f18-4d09-b910-7acbe76d5271",
   "metadata": {},
   "outputs": [
    {
     "name": "stdout",
     "output_type": "stream",
     "text": [
      "-RECORD 0-----------------------------\n",
      " revenue_zone   | 152                 \n",
      " revenue_hour   | 2020-01-29 18:00:00 \n",
      " amount         | 46.82               \n",
      " number_records | 6                   \n",
      "-RECORD 1-----------------------------\n",
      " revenue_zone   | 41                  \n",
      " revenue_hour   | 2020-01-19 12:00:00 \n",
      " amount         | 768.7800000000002   \n",
      " number_records | 57                  \n",
      "-RECORD 2-----------------------------\n",
      " revenue_zone   | 130                 \n",
      " revenue_hour   | 2020-01-05 20:00:00 \n",
      " amount         | 256.33000000000004  \n",
      " number_records | 16                  \n",
      "-RECORD 3-----------------------------\n",
      " revenue_zone   | 166                 \n",
      " revenue_hour   | 2020-01-24 13:00:00 \n",
      " amount         | 685.4200000000001   \n",
      " number_records | 33                  \n",
      "-RECORD 4-----------------------------\n",
      " revenue_zone   | 69                  \n",
      " revenue_hour   | 2020-01-16 12:00:00 \n",
      " amount         | 75.42               \n",
      " number_records | 5                   \n",
      "only showing top 5 rows\n",
      "\n"
     ]
    }
   ],
   "source": [
    "df_green_revenue.show(vertical=True, n=5)"
   ]
  },
  {
   "cell_type": "code",
   "execution_count": 9,
   "id": "27e15d52-ff6e-4522-a34e-fe59b09d4d48",
   "metadata": {},
   "outputs": [],
   "source": [
    "df_green_revenue.write.parquet('data/report/revenue/green/', mode='overwrite')"
   ]
  },
  {
   "cell_type": "code",
   "execution_count": null,
   "id": "4e1c84c2-dbc1-4b34-b730-8a33a16e5709",
   "metadata": {},
   "outputs": [],
   "source": []
  },
  {
   "cell_type": "code",
   "execution_count": 10,
   "id": "ab39116d-7e13-4a00-a4fa-d7a4b2012920",
   "metadata": {},
   "outputs": [],
   "source": [
    "df_yellow = spark.read.parquet('data/pq/yellow/*/*')"
   ]
  },
  {
   "cell_type": "code",
   "execution_count": 11,
   "id": "315ad7c3-5a0d-414f-954b-03f76d967750",
   "metadata": {},
   "outputs": [],
   "source": [
    "df_yellow= df_yellow.withColumnRenamed('tpep_pickup_datetime', 'pickup_datetime') \\\n",
    "                    .withColumnRenamed('tpep_dropoff_datetime', 'dropoff_datetime')"
   ]
  },
  {
   "cell_type": "code",
   "execution_count": 12,
   "id": "fc3f44ca-2a9f-4a93-8875-0998a23c39ce",
   "metadata": {},
   "outputs": [],
   "source": [
    "df_yellow.createOrReplaceTempView(\"yellow\")"
   ]
  },
  {
   "cell_type": "code",
   "execution_count": 13,
   "id": "615dc671-7917-4398-9e9a-40c9c368afed",
   "metadata": {},
   "outputs": [],
   "source": [
    "df_yellow_revenue = spark.sql(\"\"\"\n",
    "                        SELECT \n",
    "                            PULocationID AS revenue_zone,\n",
    "                            date_trunc('hour', pickup_datetime) AS revenue_hour, \n",
    "                            SUM(total_amount) AS amount,\n",
    "                            COUNT(*) AS number_records\n",
    "                        FROM yellow\n",
    "                        WHERE pickup_datetime >= '2020-01-01'\n",
    "                        GROUP BY \n",
    "                        \trevenue_zone,\n",
    "                        \trevenue_hour\n",
    "                    \"\"\")"
   ]
  },
  {
   "cell_type": "code",
   "execution_count": 14,
   "id": "791f49dd-f6c7-4e7c-980a-0675d16d6f45",
   "metadata": {},
   "outputs": [
    {
     "name": "stdout",
     "output_type": "stream",
     "text": [
      "-RECORD 0-----------------------------\n",
      " revenue_zone   | 226                 \n",
      " revenue_hour   | 2020-01-13 07:00:00 \n",
      " amount         | 1327.1900000000003  \n",
      " number_records | 57                  \n",
      "-RECORD 1-----------------------------\n",
      " revenue_zone   | 233                 \n",
      " revenue_hour   | 2020-01-24 16:00:00 \n",
      " amount         | 3437.3299999999986  \n",
      " number_records | 172                 \n",
      "-RECORD 2-----------------------------\n",
      " revenue_zone   | 166                 \n",
      " revenue_hour   | 2020-01-24 19:00:00 \n",
      " amount         | 1145.1600000000003  \n",
      " number_records | 85                  \n",
      "-RECORD 3-----------------------------\n",
      " revenue_zone   | 238                 \n",
      " revenue_hour   | 2020-01-17 22:00:00 \n",
      " amount         | 2514.87             \n",
      " number_records | 158                 \n",
      "-RECORD 4-----------------------------\n",
      " revenue_zone   | 41                  \n",
      " revenue_hour   | 2020-01-31 16:00:00 \n",
      " amount         | 593.5500000000001   \n",
      " number_records | 47                  \n",
      "only showing top 5 rows\n",
      "\n"
     ]
    }
   ],
   "source": [
    "df_yellow_revenue.show(vertical=True,n=5)"
   ]
  },
  {
   "cell_type": "code",
   "execution_count": 15,
   "id": "73872292-7ad8-4ff8-80d3-66601889baf3",
   "metadata": {},
   "outputs": [],
   "source": [
    "df_yellow_revenue.write.parquet('data/report/revenue/yellow/', mode='overwrite')"
   ]
  },
  {
   "cell_type": "code",
   "execution_count": 16,
   "id": "70e6c414-1dc0-48db-9a0c-e0ba65094e46",
   "metadata": {},
   "outputs": [],
   "source": [
    "df_green_revenue_tmp = df_green_revenue.withColumnRenamed('amount', 'green_amount') \\\n",
    "                                       .withColumnRenamed('number_records', 'green_number_records')\n",
    "df_yellow_revenue_tmp = df_yellow_revenue.withColumnRenamed('amount', 'yellow_amount') \\\n",
    "                                         .withColumnRenamed('number_records', 'yellow_number_records')"
   ]
  },
  {
   "cell_type": "code",
   "execution_count": 17,
   "id": "2e7daa6d-ae03-4553-bdff-ee1371c1bf56",
   "metadata": {},
   "outputs": [],
   "source": [
    "df_green_revenue.write.parquet('data/report/revenue/green/', mode='overwrite')"
   ]
  },
  {
   "cell_type": "code",
   "execution_count": 18,
   "id": "26924c41-e08c-4769-98ee-433514d88785",
   "metadata": {},
   "outputs": [],
   "source": [
    "df_join = df_green_revenue_tmp.join(df_yellow_revenue_tmp, on=['revenue_hour','revenue_zone'], how='outer')"
   ]
  },
  {
   "cell_type": "code",
   "execution_count": 19,
   "id": "e48c9978-bae2-4df2-8cc3-56732c401c7a",
   "metadata": {},
   "outputs": [
    {
     "name": "stdout",
     "output_type": "stream",
     "text": [
      "+-------------------+------------+------------+--------------------+------------------+---------------------+\n",
      "|       revenue_hour|revenue_zone|green_amount|green_number_records|     yellow_amount|yellow_number_records|\n",
      "+-------------------+------------+------------+--------------------+------------------+---------------------+\n",
      "|2020-01-01 04:00:00|           1|        NULL|                NULL|              94.8|                    1|\n",
      "|2020-01-01 05:00:00|           1|        NULL|                NULL|              40.3|                    1|\n",
      "|2020-01-01 11:00:00|           1|        NULL|                NULL|              90.3|                    1|\n",
      "|2020-01-03 19:00:00|           1|        NULL|                NULL|            284.32|                    3|\n",
      "|2020-01-04 07:00:00|           1|        NULL|                NULL|            198.76|                    2|\n",
      "|2020-01-04 13:00:00|           1|        NULL|                NULL| 98.44999999999999|                    2|\n",
      "|2020-01-08 07:00:00|           1|        NULL|                NULL|            113.76|                    1|\n",
      "|2020-01-09 20:00:00|           1|        NULL|                NULL|301.26000000000005|                    9|\n",
      "|2020-01-10 18:00:00|           1|        NULL|                NULL|            340.43|                    3|\n",
      "|2020-01-11 08:00:00|           1|        NULL|                NULL|            125.37|                    1|\n",
      "|2020-01-13 07:00:00|           1|        NULL|                NULL|             108.3|                    1|\n",
      "|2020-01-15 16:00:00|           1|        NULL|                NULL|            257.68|                    3|\n",
      "|2020-01-16 05:00:00|           1|        NULL|                NULL|            203.22|                    3|\n",
      "|2020-01-18 08:00:00|           1|        NULL|                NULL|218.17000000000002|                    2|\n",
      "|2020-01-19 19:00:00|           1|        NULL|                NULL|            112.88|                    1|\n",
      "|2020-01-23 20:00:00|           1|        NULL|                NULL|             126.3|                    1|\n",
      "|2020-01-24 11:00:00|           1|        NULL|                NULL|            136.56|                    1|\n",
      "|2020-01-24 19:00:00|           1|        NULL|                NULL|            548.31|                    5|\n",
      "|2020-01-31 12:00:00|           1|        NULL|                NULL|            192.96|                    1|\n",
      "|2020-02-01 10:00:00|           1|        NULL|                NULL|            137.76|                    1|\n",
      "+-------------------+------------+------------+--------------------+------------------+---------------------+\n",
      "only showing top 20 rows\n",
      "\n"
     ]
    }
   ],
   "source": [
    "df_join.show()"
   ]
  },
  {
   "cell_type": "code",
   "execution_count": 20,
   "id": "b2dfc85a-4d20-4caf-a349-50cde4afd097",
   "metadata": {},
   "outputs": [],
   "source": [
    "df_join.write.parquet('data/report/revenue/total')"
   ]
  },
  {
   "cell_type": "code",
   "execution_count": 21,
   "id": "c004da16-fed9-412c-bd9c-310a7305aa6b",
   "metadata": {},
   "outputs": [],
   "source": [
    "df_join = spark.read.parquet('data/report/revenue/total/')"
   ]
  },
  {
   "cell_type": "code",
   "execution_count": 24,
   "id": "cc655eec-c057-44bd-8c5d-2bfab1ef1f8b",
   "metadata": {},
   "outputs": [
    {
     "data": {
      "text/plain": [
       "DataFrame[revenue_hour: timestamp, revenue_zone: int, green_amount: double, green_number_records: bigint, yellow_amount: double, yellow_number_records: bigint]"
      ]
     },
     "execution_count": 24,
     "metadata": {},
     "output_type": "execute_result"
    }
   ],
   "source": [
    "df_join"
   ]
  },
  {
   "cell_type": "code",
   "execution_count": 22,
   "id": "2f053b16-745d-4e0c-911a-5aec252f5122",
   "metadata": {},
   "outputs": [],
   "source": [
    "df_zones = spark.read.parquet('zones/')"
   ]
  },
  {
   "cell_type": "code",
   "execution_count": 25,
   "id": "842a4125-0725-4bf4-8a76-a0c27351a0cb",
   "metadata": {},
   "outputs": [],
   "source": [
    "df_results = df_join.join(df_zones, df_join.revenue_zone==df_zones.LocationID)"
   ]
  },
  {
   "cell_type": "code",
   "execution_count": 28,
   "id": "124bcc49-02d3-43c9-b432-8138aafb1843",
   "metadata": {},
   "outputs": [
    {
     "name": "stdout",
     "output_type": "stream",
     "text": [
      "+-------------------+------------+------------+--------------------+------------------+---------------------+----------+-------+--------------+------------+\n",
      "|       revenue_hour|revenue_zone|green_amount|green_number_records|     yellow_amount|yellow_number_records|LocationID|Borough|          Zone|service_zone|\n",
      "+-------------------+------------+------------+--------------------+------------------+---------------------+----------+-------+--------------+------------+\n",
      "|2020-01-01 07:00:00|           1|        NULL|                NULL|              0.31|                    1|         1|    EWR|Newark Airport|         EWR|\n",
      "|2020-01-01 12:00:00|           1|        NULL|                NULL|            266.66|                    3|         1|    EWR|Newark Airport|         EWR|\n",
      "|2020-01-02 01:00:00|           1|        NULL|                NULL|             84.36|                    1|         1|    EWR|Newark Airport|         EWR|\n",
      "|2020-01-02 16:00:00|           1|        NULL|                NULL|313.54999999999995|                    5|         1|    EWR|Newark Airport|         EWR|\n",
      "|2020-01-03 07:00:00|           1|        NULL|                NULL|              99.3|                    2|         1|    EWR|Newark Airport|         EWR|\n",
      "|2020-01-07 17:00:00|           1|        NULL|                NULL|            261.95|                    5|         1|    EWR|Newark Airport|         EWR|\n",
      "|2020-01-08 02:00:00|           1|        NULL|                NULL|             24.36|                    1|         1|    EWR|Newark Airport|         EWR|\n",
      "|2020-01-09 07:00:00|           1|        NULL|                NULL|            128.46|                    1|         1|    EWR|Newark Airport|         EWR|\n",
      "|2020-01-09 14:00:00|           1|        NULL|                NULL|            303.76|                    3|         1|    EWR|Newark Airport|         EWR|\n",
      "|2020-01-09 23:00:00|           1|        NULL|                NULL|            230.71|                    1|         1|    EWR|Newark Airport|         EWR|\n",
      "|2020-01-15 14:00:00|           1|        NULL|                NULL|            780.55|                   10|         1|    EWR|Newark Airport|         EWR|\n",
      "|2020-01-15 17:00:00|           1|        NULL|                NULL|             128.3|                    1|         1|    EWR|Newark Airport|         EWR|\n",
      "|2020-01-17 07:00:00|           1|        NULL|                NULL|             221.6|                    2|         1|    EWR|Newark Airport|         EWR|\n",
      "|2020-01-21 20:00:00|           1|        NULL|                NULL|            104.05|                    1|         1|    EWR|Newark Airport|         EWR|\n",
      "|2020-01-23 08:00:00|           1|        NULL|                NULL|             93.45|                    1|         1|    EWR|Newark Airport|         EWR|\n",
      "|2020-01-23 21:00:00|           1|        NULL|                NULL|            257.35|                    2|         1|    EWR|Newark Airport|         EWR|\n",
      "|2020-01-24 10:00:00|           1|        NULL|                NULL|            514.35|                    4|         1|    EWR|Newark Airport|         EWR|\n",
      "|2020-01-26 08:00:00|           1|        NULL|                NULL|            362.25|                    5|         1|    EWR|Newark Airport|         EWR|\n",
      "|2020-01-28 17:00:00|           1|        NULL|                NULL|             149.3|                    1|         1|    EWR|Newark Airport|         EWR|\n",
      "|2020-01-31 11:00:00|           1|        NULL|                NULL|             492.2|                    5|         1|    EWR|Newark Airport|         EWR|\n",
      "+-------------------+------------+------------+--------------------+------------------+---------------------+----------+-------+--------------+------------+\n",
      "only showing top 20 rows\n",
      "\n"
     ]
    }
   ],
   "source": [
    "df_results.show()"
   ]
  },
  {
   "cell_type": "code",
   "execution_count": 29,
   "id": "c614e81e-2a75-481d-a9e4-bba5dc43cebe",
   "metadata": {},
   "outputs": [],
   "source": [
    "df_results.drop('LocationID', 'revenue_zone').write.parquet('tmp/revenue-zones/')"
   ]
  },
  {
   "cell_type": "code",
   "execution_count": null,
   "id": "4b6df9f8-d2fc-496b-ae15-1d4b3af1bedf",
   "metadata": {},
   "outputs": [],
   "source": []
  }
 ],
 "metadata": {
  "kernelspec": {
   "display_name": "Python 3 (ipykernel)",
   "language": "python",
   "name": "python3"
  },
  "language_info": {
   "codemirror_mode": {
    "name": "ipython",
    "version": 3
   },
   "file_extension": ".py",
   "mimetype": "text/x-python",
   "name": "python",
   "nbconvert_exporter": "python",
   "pygments_lexer": "ipython3",
   "version": "3.11.1"
  }
 },
 "nbformat": 4,
 "nbformat_minor": 5
}
