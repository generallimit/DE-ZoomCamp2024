{
 "cells": [
  {
   "cell_type": "code",
   "execution_count": 12,
   "id": "00bc6543",
   "metadata": {},
   "outputs": [],
   "source": [
    "import pyspark\n",
    "from pyspark.sql import SparkSession, types\n",
    "from pyspark.sql import functions as F\n",
    "from pyspark.sql.functions import sha2, concat_ws"
   ]
  },
  {
   "cell_type": "code",
   "execution_count": 2,
   "id": "cd4a0f3d",
   "metadata": {},
   "outputs": [],
   "source": [
    "spark = SparkSession.builder \\\n",
    "    .master(\"local[*]\") \\\n",
    "    .appName('test') \\\n",
    "    .getOrCreate()"
   ]
  },
  {
   "cell_type": "code",
   "execution_count": 3,
   "id": "f5876a50-9cc0-47a5-88a3-768bd4f2c4cb",
   "metadata": {},
   "outputs": [
    {
     "data": {
      "text/html": [
       "\n",
       "        <div>\n",
       "            <p><b>SparkContext</b></p>\n",
       "\n",
       "            <p><a href=\"http://host.docker.internal:4040\">Spark UI</a></p>\n",
       "\n",
       "            <dl>\n",
       "              <dt>Version</dt>\n",
       "                <dd><code>v3.5.0</code></dd>\n",
       "              <dt>Master</dt>\n",
       "                <dd><code>local[*]</code></dd>\n",
       "              <dt>AppName</dt>\n",
       "                <dd><code>test</code></dd>\n",
       "            </dl>\n",
       "        </div>\n",
       "        "
      ],
      "text/plain": [
       "<SparkContext master=local[*] appName=test>"
      ]
     },
     "execution_count": 3,
     "metadata": {},
     "output_type": "execute_result"
    }
   ],
   "source": [
    "spark.sparkContext"
   ]
  },
  {
   "cell_type": "code",
   "execution_count": 4,
   "id": "5236cebd",
   "metadata": {},
   "outputs": [
    {
     "name": "stdout",
     "output_type": "stream",
     "text": [
      "-rw-r--r-- 1 jeff 197609 19M Dec  1  2022 data/raw/fhv/2019/10/fhv_tripdata_2019_10.csv.gz\n"
     ]
    }
   ],
   "source": [
    "!ls -lh data/raw/fhv/2019/10/fhv_tripdata_2019_10.csv.gz"
   ]
  },
  {
   "cell_type": "code",
   "execution_count": 5,
   "id": "e469a972-a562-4630-ab2d-0b191b91ba58",
   "metadata": {},
   "outputs": [],
   "source": [
    "df = spark.read.csv('data/raw/fhv/2019/10/fhv_tripdata_2019_10.csv.gz', header=True, inferSchema=True)"
   ]
  },
  {
   "cell_type": "code",
   "execution_count": 6,
   "id": "73e39b60-d158-40c8-bbd0-024dc7ad814f",
   "metadata": {},
   "outputs": [
    {
     "name": "stdout",
     "output_type": "stream",
     "text": [
      "root\n",
      " |-- dispatching_base_num: string (nullable = true)\n",
      " |-- pickup_datetime: timestamp (nullable = true)\n",
      " |-- dropOff_datetime: timestamp (nullable = true)\n",
      " |-- PUlocationID: integer (nullable = true)\n",
      " |-- DOlocationID: integer (nullable = true)\n",
      " |-- SR_Flag: string (nullable = true)\n",
      " |-- Affiliated_base_number: string (nullable = true)\n",
      "\n"
     ]
    }
   ],
   "source": [
    "df.printSchema()"
   ]
  },
  {
   "cell_type": "code",
   "execution_count": 7,
   "id": "0a3399a3",
   "metadata": {},
   "outputs": [],
   "source": [
    "schema = types.StructType([\n",
    "    types.StructField('dispatching_base_num', types.StringType(), True),\n",
    "    types.StructField('pickup_datetime', types.TimestampType(), True),\n",
    "    types.StructField('dropoff_datetime', types.TimestampType(), True),\n",
    "    types.StructField('PULocationID', types.IntegerType(), True),\n",
    "    types.StructField('DOLocationID', types.IntegerType(), True),\n",
    "    types.StructField('SR_Flag', types.StringType(), True),\n",
    "    types.StructField('Affiliated_base_number', types.StringType(), True)\n",
    "])"
   ]
  },
  {
   "cell_type": "code",
   "execution_count": 9,
   "id": "68bc8b72",
   "metadata": {},
   "outputs": [],
   "source": [
    "df = spark.read \\\n",
    "    .option(\"header\", \"true\") \\\n",
    "    .schema(schema) \\\n",
    "    .csv('data/raw/fhv/2019/10/fhv_tripdata_2019_10.csv.gz')\n",
    "\n",
    "df = df.repartition(6)\n",
    "\n",
    "df.write.parquet('data/pq/fhv/2019/10/', mode='overwrite')"
   ]
  },
  {
   "cell_type": "code",
   "execution_count": 10,
   "id": "58989b55",
   "metadata": {},
   "outputs": [],
   "source": [
    "df = spark.read.parquet('data/pq/fhv/2019/10/')"
   ]
  },
  {
   "cell_type": "code",
   "execution_count": 11,
   "id": "9d1471bb-f4a8-484c-8298-c738996c3caa",
   "metadata": {},
   "outputs": [
    {
     "name": "stdout",
     "output_type": "stream",
     "text": [
      "data/pq/fhv:\n",
      "total 0\n",
      "drwxr-xr-x 1 jeff 197609 0 Mar  4 07:51 2019\n",
      "\n",
      "data/pq/fhv/2019:\n",
      "total 8.0K\n",
      "drwxr-xr-x 1 jeff 197609 0 Mar  4 07:51 10\n",
      "\n",
      "data/pq/fhv/2019/10:\n",
      "total 39M\n",
      "-rw-r--r-- 1 jeff 197609    0 Mar  4 07:51 _SUCCESS\n",
      "-rw-r--r-- 1 jeff 197609 6.4M Mar  4 07:51 part-00000-2d4da35e-d801-42bd-baa7-7bb85e4df104-c000.snappy.parquet\n",
      "-rw-r--r-- 1 jeff 197609 6.4M Mar  4 07:51 part-00001-2d4da35e-d801-42bd-baa7-7bb85e4df104-c000.snappy.parquet\n",
      "-rw-r--r-- 1 jeff 197609 6.4M Mar  4 07:51 part-00002-2d4da35e-d801-42bd-baa7-7bb85e4df104-c000.snappy.parquet\n",
      "-rw-r--r-- 1 jeff 197609 6.4M Mar  4 07:51 part-00003-2d4da35e-d801-42bd-baa7-7bb85e4df104-c000.snappy.parquet\n",
      "-rw-r--r-- 1 jeff 197609 6.4M Mar  4 07:51 part-00004-2d4da35e-d801-42bd-baa7-7bb85e4df104-c000.snappy.parquet\n",
      "-rw-r--r-- 1 jeff 197609 6.4M Mar  4 07:51 part-00005-2d4da35e-d801-42bd-baa7-7bb85e4df104-c000.snappy.parquet\n"
     ]
    }
   ],
   "source": [
    "!ls -lhR data/pq/fhv"
   ]
  },
  {
   "cell_type": "code",
   "execution_count": 18,
   "id": "f7489aea",
   "metadata": {},
   "outputs": [],
   "source": [
    "from pyspark.sql import functions as F"
   ]
  },
  {
   "cell_type": "code",
   "execution_count": 13,
   "id": "6c2500fd",
   "metadata": {},
   "outputs": [
    {
     "data": {
      "text/plain": [
       "62610"
      ]
     },
     "execution_count": 13,
     "metadata": {},
     "output_type": "execute_result"
    }
   ],
   "source": [
    "df.withColumn('pickup_date', F.to_date(df.pickup_datetime)) \\\n",
    "    .filter(\"pickup_date = '2019-10-15'\") \\\n",
    "    .count()"
   ]
  },
  {
   "cell_type": "code",
   "execution_count": 31,
   "id": "dd7ae60d",
   "metadata": {},
   "outputs": [],
   "source": [
    "df.createOrReplaceTempView('fhv_2019_10')"
   ]
  },
  {
   "cell_type": "code",
   "execution_count": 32,
   "id": "6d47c147",
   "metadata": {},
   "outputs": [
    {
     "name": "stdout",
     "output_type": "stream",
     "text": [
      "+-----------+------------+\n",
      "|Pickup_Date|Longest_Trip|\n",
      "+-----------+------------+\n",
      "| 2019-10-28|      631152|\n",
      "| 2019-10-11|      631152|\n",
      "| 2019-10-31|       87672|\n",
      "| 2019-10-01|       70128|\n",
      "| 2019-10-17|        8794|\n",
      "| 2019-10-26|        8784|\n",
      "| 2019-10-30|        1464|\n",
      "| 2019-10-25|        1056|\n",
      "| 2019-10-01|         793|\n",
      "| 2019-10-01|         793|\n",
      "| 2019-10-01|         793|\n",
      "| 2019-10-01|         792|\n",
      "| 2019-10-01|         792|\n",
      "| 2019-10-01|         792|\n",
      "| 2019-10-01|         792|\n",
      "| 2019-10-01|         792|\n",
      "| 2019-10-01|         792|\n",
      "| 2019-10-01|         792|\n",
      "| 2019-10-01|         792|\n",
      "| 2019-10-01|         792|\n",
      "+-----------+------------+\n",
      "only showing top 20 rows\n",
      "\n"
     ]
    }
   ],
   "source": [
    "spark.sql(\"\"\"\n",
    "            SELECT  TO_DATE(pickup_datetime) AS Pickup_Date,\n",
    "                    MAX(DATEDIFF(HOUR, pickup_datetime, dropoff_datetime)) AS Longest_Trip\n",
    "            FROM    fhv_2019_10\n",
    "            GROUP BY\n",
    "                    pickup_datetime\n",
    "            ORDER BY\n",
    "                    2 DESC\n",
    "            ;\n",
    "        \"\"\").show()"
   ]
  },
  {
   "cell_type": "markdown",
   "id": "ae3f533b",
   "metadata": {},
   "source": [
    "**Q4**: Longest trip for each day"
   ]
  },
  {
   "cell_type": "code",
   "execution_count": 18,
   "id": "7befe422",
   "metadata": {},
   "outputs": [
    {
     "data": {
      "text/plain": [
       "['dispatching_base_num',\n",
       " 'pickup_datetime',\n",
       " 'dropoff_datetime',\n",
       " 'PULocationID',\n",
       " 'DOLocationID',\n",
       " 'SR_Flag',\n",
       " 'Affiliated_base_number']"
      ]
     },
     "execution_count": 18,
     "metadata": {},
     "output_type": "execute_result"
    }
   ],
   "source": [
    "df.columns"
   ]
  },
  {
   "cell_type": "code",
   "execution_count": 19,
   "id": "279d9161",
   "metadata": {},
   "outputs": [
    {
     "name": "stdout",
     "output_type": "stream",
     "text": [
      "+-----------+-------------+\n",
      "|pickup_date|max(duration)|\n",
      "+-----------+-------------+\n",
      "| 2019-10-28|   2272149000|\n",
      "| 2019-10-11|   2272149000|\n",
      "| 2019-10-31|    315620787|\n",
      "| 2019-10-01|    252460901|\n",
      "| 2019-10-17|     31658400|\n",
      "+-----------+-------------+\n",
      "\n"
     ]
    }
   ],
   "source": [
    "df.withColumn('duration', df.dropoff_datetime.cast('long') - df.pickup_datetime.cast('long')) \\\n",
    "    .withColumn('pickup_date', F.to_date(df.pickup_datetime)) \\\n",
    "    .groupBy('pickup_date') \\\n",
    "        .max('duration') \\\n",
    "    .orderBy('max(duration)', ascending=False) \\\n",
    "    .limit(5) \\\n",
    "    .show()"
   ]
  },
  {
   "cell_type": "code",
   "execution_count": 33,
   "id": "74cf0e8b",
   "metadata": {
    "scrolled": true
   },
   "outputs": [
    {
     "name": "stdout",
     "output_type": "stream",
     "text": [
      "+-----------+-----------------+\n",
      "|pickup_date|         duration|\n",
      "+-----------+-----------------+\n",
      "| 2019-10-28|       3.786915E7|\n",
      "| 2019-10-11|       3.786915E7|\n",
      "| 2019-10-31|       5260346.45|\n",
      "| 2019-10-01|4207681.683333334|\n",
      "| 2019-10-17|         527640.0|\n",
      "| 2019-10-26|         527050.0|\n",
      "| 2019-10-30|87932.06666666667|\n",
      "| 2019-10-25|          63469.6|\n",
      "| 2019-10-02|46213.88333333333|\n",
      "| 2019-10-23|          44797.0|\n",
      "+-----------+-----------------+\n",
      "\n"
     ]
    }
   ],
   "source": [
    "spark.sql(\"\"\"\n",
    "SELECT\n",
    "    to_date(pickup_datetime) AS pickup_date,\n",
    "    MAX((CAST(dropoff_datetime AS LONG) - CAST(pickup_datetime AS LONG)) / 60) AS duration\n",
    "FROM \n",
    "    fhv_2019_10\n",
    "GROUP BY\n",
    "    1\n",
    "ORDER BY\n",
    "    2 DESC\n",
    "LIMIT 10;\n",
    "\"\"\").show()"
   ]
  },
  {
   "cell_type": "code",
   "execution_count": 25,
   "id": "74b7f664",
   "metadata": {},
   "outputs": [],
   "source": [
    "df_zones = spark.read.parquet('zones')"
   ]
  },
  {
   "cell_type": "code",
   "execution_count": 26,
   "id": "81642d3b",
   "metadata": {},
   "outputs": [
    {
     "data": {
      "text/plain": [
       "['LocationID', 'Borough', 'Zone', 'service_zone']"
      ]
     },
     "execution_count": 26,
     "metadata": {},
     "output_type": "execute_result"
    }
   ],
   "source": [
    "df_zones.columns"
   ]
  },
  {
   "cell_type": "code",
   "execution_count": 27,
   "id": "4f460dda",
   "metadata": {},
   "outputs": [
    {
     "data": {
      "text/plain": [
       "['dispatching_base_num',\n",
       " 'pickup_datetime',\n",
       " 'dropoff_datetime',\n",
       " 'PULocationID',\n",
       " 'DOLocationID',\n",
       " 'SR_Flag',\n",
       " 'Affiliated_base_number']"
      ]
     },
     "execution_count": 27,
     "metadata": {},
     "output_type": "execute_result"
    }
   ],
   "source": [
    "df.columns"
   ]
  },
  {
   "cell_type": "code",
   "execution_count": 29,
   "id": "ad8f0101",
   "metadata": {},
   "outputs": [],
   "source": [
    "df_zones.createOrReplaceTempView('zones')"
   ]
  },
  {
   "cell_type": "code",
   "execution_count": 51,
   "id": "6f738414",
   "metadata": {},
   "outputs": [],
   "source": [
    "df_PUDO = spark.sql(\"\"\"\n",
    "                    SELECT\n",
    "                        CONCAT(pu.Zone) AS PU_Loc,\n",
    "                        COUNT(*) AS Cnt\n",
    "                    FROM fhv_2019_10 fhv\n",
    "                    INNER JOIN zones pu ON fhv.PULocationID = pu.LocationID\n",
    "                    GROUP BY 1\n",
    "                    ORDER BY 2\n",
    "                    LIMIT 5;\n",
    "                    \"\"\")"
   ]
  },
  {
   "cell_type": "code",
   "execution_count": 52,
   "id": "e4b754d1",
   "metadata": {},
   "outputs": [
    {
     "name": "stdout",
     "output_type": "stream",
     "text": [
      "+---------------------------------------------+---+\n",
      "|PU_Loc                                       |Cnt|\n",
      "+---------------------------------------------+---+\n",
      "|Jamaica Bay                                  |1  |\n",
      "|Governor's Island/Ellis Island/Liberty Island|2  |\n",
      "|Green-Wood Cemetery                          |5  |\n",
      "|Broad Channel                                |8  |\n",
      "|Highbridge Park                              |14 |\n",
      "+---------------------------------------------+---+\n",
      "\n"
     ]
    }
   ],
   "source": [
    "df_PUDO.show(truncate=False)"
   ]
  },
  {
   "cell_type": "code",
   "execution_count": null,
   "id": "bdf824ab-308b-423a-b904-6e6cf5492503",
   "metadata": {},
   "outputs": [],
   "source": []
  }
 ],
 "metadata": {
  "kernelspec": {
   "display_name": "Python 3 (ipykernel)",
   "language": "python",
   "name": "python3"
  },
  "language_info": {
   "codemirror_mode": {
    "name": "ipython",
    "version": 3
   },
   "file_extension": ".py",
   "mimetype": "text/x-python",
   "name": "python",
   "nbconvert_exporter": "python",
   "pygments_lexer": "ipython3",
   "version": "3.11.1"
  }
 },
 "nbformat": 4,
 "nbformat_minor": 5
}
