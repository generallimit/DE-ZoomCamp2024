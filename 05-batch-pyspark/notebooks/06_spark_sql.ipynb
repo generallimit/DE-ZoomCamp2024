{
 "cells": [
  {
   "cell_type": "code",
   "execution_count": 2,
   "id": "2c04855f-7287-49c0-b2d3-1a3c0d25c9a4",
   "metadata": {},
   "outputs": [],
   "source": [
    "import pyspark\n",
    "from pyspark.sql import SparkSession, types\n",
    "from pyspark.sql import functions as F\n",
    "from pyspark.sql.functions import sha2, concat_ws"
   ]
  },
  {
   "cell_type": "code",
   "execution_count": 3,
   "id": "226520e7-0620-44d0-bd84-33ac63cf672b",
   "metadata": {},
   "outputs": [],
   "source": [
    "spark = SparkSession.builder \\\n",
    "    .master(\"local[*]\") \\\n",
    "    .appName('test') \\\n",
    "    .getOrCreate()"
   ]
  },
  {
   "cell_type": "code",
   "execution_count": 4,
   "id": "cad2fb74-56d7-4c96-844b-bb2f1c9a9de9",
   "metadata": {},
   "outputs": [],
   "source": [
    "df_green = spark.read.parquet('data/pq/green/*/*')"
   ]
  },
  {
   "cell_type": "code",
   "execution_count": 5,
   "id": "3709a6ac-2a46-4251-b5b0-89a17d516936",
   "metadata": {},
   "outputs": [
    {
     "name": "stdout",
     "output_type": "stream",
     "text": [
      "root\n",
      " |-- VendorID: integer (nullable = true)\n",
      " |-- lpep_pickup_datetime: timestamp (nullable = true)\n",
      " |-- lpep_dropoff_datetime: timestamp (nullable = true)\n",
      " |-- store_and_fwd_flag: string (nullable = true)\n",
      " |-- RatecodeID: integer (nullable = true)\n",
      " |-- PULocationID: integer (nullable = true)\n",
      " |-- DOLocationID: integer (nullable = true)\n",
      " |-- passenger_count: integer (nullable = true)\n",
      " |-- trip_distance: double (nullable = true)\n",
      " |-- fare_amount: double (nullable = true)\n",
      " |-- extra: double (nullable = true)\n",
      " |-- mta_tax: double (nullable = true)\n",
      " |-- tip_amount: double (nullable = true)\n",
      " |-- tolls_amount: double (nullable = true)\n",
      " |-- ehail_fee: double (nullable = true)\n",
      " |-- improvement_surcharge: double (nullable = true)\n",
      " |-- total_amount: double (nullable = true)\n",
      " |-- payment_type: integer (nullable = true)\n",
      " |-- trip_type: integer (nullable = true)\n",
      " |-- congestion_surcharge: double (nullable = true)\n",
      "\n"
     ]
    }
   ],
   "source": [
    "df_green.printSchema()"
   ]
  },
  {
   "cell_type": "code",
   "execution_count": 6,
   "id": "905b50fc-d470-4676-a555-d160e054ede2",
   "metadata": {},
   "outputs": [],
   "source": [
    "df_yellow = spark.read.parquet('data/pq/yellow/*/*')"
   ]
  },
  {
   "cell_type": "code",
   "execution_count": 7,
   "id": "e9231375-bd59-458b-97d4-eccc3757ef6f",
   "metadata": {},
   "outputs": [
    {
     "name": "stdout",
     "output_type": "stream",
     "text": [
      "root\n",
      " |-- VendorID: integer (nullable = true)\n",
      " |-- tpep_pickup_datetime: timestamp (nullable = true)\n",
      " |-- tpep_dropoff_datetime: timestamp (nullable = true)\n",
      " |-- passenger_count: integer (nullable = true)\n",
      " |-- trip_distance: double (nullable = true)\n",
      " |-- RatecodeID: integer (nullable = true)\n",
      " |-- store_and_fwd_flag: string (nullable = true)\n",
      " |-- PULocationID: integer (nullable = true)\n",
      " |-- DOLocationID: integer (nullable = true)\n",
      " |-- payment_type: integer (nullable = true)\n",
      " |-- fare_amount: double (nullable = true)\n",
      " |-- extra: double (nullable = true)\n",
      " |-- mta_tax: double (nullable = true)\n",
      " |-- tip_amount: double (nullable = true)\n",
      " |-- tolls_amount: double (nullable = true)\n",
      " |-- improvement_surcharge: double (nullable = true)\n",
      " |-- total_amount: double (nullable = true)\n",
      " |-- congestion_surcharge: double (nullable = true)\n",
      "\n"
     ]
    }
   ],
   "source": [
    "df_yellow.printSchema()"
   ]
  },
  {
   "cell_type": "code",
   "execution_count": 8,
   "id": "8a532fc5-3cea-4ba9-86a2-355962beb359",
   "metadata": {},
   "outputs": [
    {
     "data": {
      "text/plain": [
       "['VendorID',\n",
       " 'lpep_pickup_datetime',\n",
       " 'lpep_dropoff_datetime',\n",
       " 'store_and_fwd_flag',\n",
       " 'RatecodeID',\n",
       " 'PULocationID',\n",
       " 'DOLocationID',\n",
       " 'passenger_count',\n",
       " 'trip_distance',\n",
       " 'fare_amount',\n",
       " 'extra',\n",
       " 'mta_tax',\n",
       " 'tip_amount',\n",
       " 'tolls_amount',\n",
       " 'ehail_fee',\n",
       " 'improvement_surcharge',\n",
       " 'total_amount',\n",
       " 'payment_type',\n",
       " 'trip_type',\n",
       " 'congestion_surcharge']"
      ]
     },
     "execution_count": 8,
     "metadata": {},
     "output_type": "execute_result"
    }
   ],
   "source": [
    "df_green.columns"
   ]
  },
  {
   "cell_type": "code",
   "execution_count": 9,
   "id": "2f9a9968-6ded-4373-b5a8-1c441d735c19",
   "metadata": {},
   "outputs": [],
   "source": [
    "df_green = df_green.withColumnRenamed('lpep_pickup_datetime', 'pickup_datetime') \\\n",
    "                    .withColumnRenamed('lpep_dropoff_datetime', 'dropoff_datetime')"
   ]
  },
  {
   "cell_type": "code",
   "execution_count": 10,
   "id": "e13d6469-9884-463d-b97d-9c66f73e265c",
   "metadata": {},
   "outputs": [
    {
     "data": {
      "text/plain": [
       "['VendorID',\n",
       " 'tpep_pickup_datetime',\n",
       " 'tpep_dropoff_datetime',\n",
       " 'passenger_count',\n",
       " 'trip_distance',\n",
       " 'RatecodeID',\n",
       " 'store_and_fwd_flag',\n",
       " 'PULocationID',\n",
       " 'DOLocationID',\n",
       " 'payment_type',\n",
       " 'fare_amount',\n",
       " 'extra',\n",
       " 'mta_tax',\n",
       " 'tip_amount',\n",
       " 'tolls_amount',\n",
       " 'improvement_surcharge',\n",
       " 'total_amount',\n",
       " 'congestion_surcharge']"
      ]
     },
     "execution_count": 10,
     "metadata": {},
     "output_type": "execute_result"
    }
   ],
   "source": [
    "df_yellow.columns"
   ]
  },
  {
   "cell_type": "code",
   "execution_count": 11,
   "id": "7460315b-671e-426e-a4ea-cede3c7bb33a",
   "metadata": {},
   "outputs": [],
   "source": [
    "df_yellow = df_yellow.withColumnRenamed('tpep_pickup_datetime', 'pickup_datetime') \\\n",
    "                      .withColumnRenamed('tpep_dropoff_datetime', 'dropoff_datetime')"
   ]
  },
  {
   "cell_type": "code",
   "execution_count": 12,
   "id": "ea99ef1b-a293-4eae-874a-bab11e8d736a",
   "metadata": {},
   "outputs": [
    {
     "data": {
      "text/plain": [
       "{'DOLocationID',\n",
       " 'PULocationID',\n",
       " 'RatecodeID',\n",
       " 'VendorID',\n",
       " 'congestion_surcharge',\n",
       " 'dropoff_datetime',\n",
       " 'extra',\n",
       " 'fare_amount',\n",
       " 'improvement_surcharge',\n",
       " 'mta_tax',\n",
       " 'passenger_count',\n",
       " 'payment_type',\n",
       " 'pickup_datetime',\n",
       " 'store_and_fwd_flag',\n",
       " 'tip_amount',\n",
       " 'tolls_amount',\n",
       " 'total_amount',\n",
       " 'trip_distance'}"
      ]
     },
     "execution_count": 12,
     "metadata": {},
     "output_type": "execute_result"
    }
   ],
   "source": [
    "set(df_green.columns) & set(df_yellow.columns)"
   ]
  },
  {
   "cell_type": "code",
   "execution_count": 13,
   "id": "bf42c44c-359e-4585-9d45-2bcf645e9c0d",
   "metadata": {},
   "outputs": [],
   "source": [
    "common_columns = []\n",
    "yellow_columns = set(df_yellow.columns)\n",
    "\n",
    "for col in df_green.columns:\n",
    "    if col in yellow_columns:\n",
    "        common_columns.append(col)"
   ]
  },
  {
   "cell_type": "code",
   "execution_count": 14,
   "id": "7fe5488c-26e6-46e2-982c-fefea4dcbff1",
   "metadata": {},
   "outputs": [
    {
     "data": {
      "text/plain": [
       "['VendorID',\n",
       " 'pickup_datetime',\n",
       " 'dropoff_datetime',\n",
       " 'store_and_fwd_flag',\n",
       " 'RatecodeID',\n",
       " 'PULocationID',\n",
       " 'DOLocationID',\n",
       " 'passenger_count',\n",
       " 'trip_distance',\n",
       " 'fare_amount',\n",
       " 'extra',\n",
       " 'mta_tax',\n",
       " 'tip_amount',\n",
       " 'tolls_amount',\n",
       " 'improvement_surcharge',\n",
       " 'total_amount',\n",
       " 'payment_type',\n",
       " 'congestion_surcharge']"
      ]
     },
     "execution_count": 14,
     "metadata": {},
     "output_type": "execute_result"
    }
   ],
   "source": [
    "common_columns"
   ]
  },
  {
   "cell_type": "code",
   "execution_count": 15,
   "id": "5a66028b-6070-41ae-80d1-43d45e0f2764",
   "metadata": {},
   "outputs": [],
   "source": [
    "df_green_sel = df_green.select(common_columns) \\\n",
    "                        .withColumn('service_type', F.lit('green'))"
   ]
  },
  {
   "cell_type": "code",
   "execution_count": 16,
   "id": "031055a0-12c2-44c3-964a-bf866f53c3a9",
   "metadata": {},
   "outputs": [],
   "source": [
    "df_yellow_sel = df_yellow.select(common_columns) \\\n",
    "                        .withColumn('service_type', F.lit('yellow'))"
   ]
  },
  {
   "cell_type": "code",
   "execution_count": 17,
   "id": "127d93ee-f3f6-43eb-9015-824394aedb79",
   "metadata": {},
   "outputs": [],
   "source": [
    "df_trips_data = df_green_sel.unionAll(df_yellow_sel)"
   ]
  },
  {
   "cell_type": "code",
   "execution_count": 18,
   "id": "9c6e120f-b681-48f2-8e2b-162354729b9d",
   "metadata": {},
   "outputs": [],
   "source": [
    "df_trips_data = df_trips_data.withColumn('tripid', sha2(concat_ws('VendorID', 'pickup_datetime'), 256)) "
   ]
  },
  {
   "cell_type": "code",
   "execution_count": 19,
   "id": "0e4bed24-ec77-438f-b9c1-3a8215c4ea35",
   "metadata": {},
   "outputs": [
    {
     "name": "stdout",
     "output_type": "stream",
     "text": [
      "+------------+--------+\n",
      "|service_type|   count|\n",
      "+------------+--------+\n",
      "|       green| 1734051|\n",
      "|      yellow|24648499|\n",
      "+------------+--------+\n",
      "\n"
     ]
    }
   ],
   "source": [
    "df_trips_data.groupBy('service_type').count().show()"
   ]
  },
  {
   "cell_type": "code",
   "execution_count": 20,
   "id": "024b1f03-2656-474e-bfc2-be27b9fc9d5f",
   "metadata": {},
   "outputs": [],
   "source": [
    "df_trips_data.createOrReplaceTempView(\"df_trips_data\")"
   ]
  },
  {
   "cell_type": "code",
   "execution_count": 21,
   "id": "522ac203-f8e0-45d3-b3ff-4dd6f53c3378",
   "metadata": {},
   "outputs": [],
   "source": [
    "df_results = spark.sql(\"\"\"\n",
    "                        SELECT \n",
    "                        -- Reveneue grouping \n",
    "                        PULocationID AS revenue_zone,\n",
    "                        date_trunc('month', pickup_datetime) AS revenue_month, \n",
    "                        \n",
    "                        service_type, \n",
    "                        \n",
    "                        -- Revenue calculation \n",
    "                        SUM(fare_amount) AS revenue_monthly_fare,\n",
    "                        SUM(extra) AS revenue_monthly_extra,\n",
    "                        SUM(mta_tax) AS revenue_monthly_mta_tax,\n",
    "                        SUM(tip_amount) AS revenue_monthly_tip_amount,\n",
    "                        SUM(tolls_amount) AS revenue_monthly_tolls_amount,\n",
    "                        SUM(improvement_surcharge) AS revenue_monthly_improvement_surcharge,\n",
    "                        SUM(total_amount) AS revenue_monthly_total_amount,\n",
    "                        \n",
    "                        -- Additional calculations\n",
    "                        COUNT(tripid) AS total_monthly_trips,\n",
    "                        AVG(passenger_count) AS avg_monthly_passenger_count,\n",
    "                        AVG(trip_distance) AS avg_monthly_trip_distance\n",
    "                        \n",
    "                        FROM df_trips_data\n",
    "                        GROUP BY \n",
    "                        \trevenue_zone,\n",
    "                        \trevenue_month,\n",
    "                        \tservice_type\n",
    "                        --LIMIT 10;\n",
    "                    \"\"\")"
   ]
  },
  {
   "cell_type": "code",
   "execution_count": 24,
   "id": "87724009-1bb3-4c9d-b95f-3fc787e22899",
   "metadata": {},
   "outputs": [
    {
     "name": "stdout",
     "output_type": "stream",
     "text": [
      "-RECORD 0----------------------------------------------------\n",
      " revenue_zone                          | 20                  \n",
      " revenue_month                         | 2020-01-01 00:00:00 \n",
      " service_type                          | green               \n",
      " revenue_monthly_fare                  | 11375.420000000002  \n",
      " revenue_monthly_extra                 | 681.0               \n",
      " revenue_monthly_mta_tax               | 131.0               \n",
      " revenue_monthly_tip_amount            | 90.62               \n",
      " revenue_monthly_tolls_amount          | 479.86000000000024  \n",
      " revenue_monthly_improvement_surcharge | 147.29999999999933  \n",
      " revenue_monthly_total_amount          | 12923.200000000019  \n",
      " total_monthly_trips                   | 545                 \n",
      " avg_monthly_passenger_count           | 1.2297872340425533  \n",
      " avg_monthly_trip_distance             | 4.872311926605502   \n",
      "-RECORD 1----------------------------------------------------\n",
      " revenue_zone                          | 262                 \n",
      " revenue_month                         | 2020-01-01 00:00:00 \n",
      " service_type                          | green               \n",
      " revenue_monthly_fare                  | 1692.21             \n",
      " revenue_monthly_extra                 | 104.75              \n",
      " revenue_monthly_mta_tax               | 11.5                \n",
      " revenue_monthly_tip_amount            | 32.34               \n",
      " revenue_monthly_tolls_amount          | 122.66000000000003  \n",
      " revenue_monthly_improvement_surcharge | 18.0                \n",
      " revenue_monthly_total_amount          | 1981.46             \n",
      " total_monthly_trips                   | 60                  \n",
      " avg_monthly_passenger_count           | 1.4285714285714286  \n",
      " avg_monthly_trip_distance             | 7.544833333333333   \n",
      "-RECORD 2----------------------------------------------------\n",
      " revenue_zone                          | 264                 \n",
      " revenue_month                         | 2008-12-01 00:00:00 \n",
      " service_type                          | green               \n",
      " revenue_monthly_fare                  | 0.0                 \n",
      " revenue_monthly_extra                 | 0.0                 \n",
      " revenue_monthly_mta_tax               | 0.0                 \n",
      " revenue_monthly_tip_amount            | 0.0                 \n",
      " revenue_monthly_tolls_amount          | 0.0                 \n",
      " revenue_monthly_improvement_surcharge | 0.0                 \n",
      " revenue_monthly_total_amount          | 0.0                 \n",
      " total_monthly_trips                   | 1                   \n",
      " avg_monthly_passenger_count           | 1.0                 \n",
      " avg_monthly_trip_distance             | 0.0                 \n",
      "-RECORD 3----------------------------------------------------\n",
      " revenue_zone                          | 236                 \n",
      " revenue_month                         | 2020-01-01 00:00:00 \n",
      " service_type                          | green               \n",
      " revenue_monthly_fare                  | 13472.719999999998  \n",
      " revenue_monthly_extra                 | 755.5               \n",
      " revenue_monthly_mta_tax               | 443.0               \n",
      " revenue_monthly_tip_amount            | 1573.1299999999992  \n",
      " revenue_monthly_tolls_amount          | 397.23000000000013  \n",
      " revenue_monthly_improvement_surcharge | 298.4999999999999   \n",
      " revenue_monthly_total_amount          | 18493.030000000006  \n",
      " total_monthly_trips                   | 1011                \n",
      " avg_monthly_passenger_count           | 1.4016203703703705  \n",
      " avg_monthly_trip_distance             | 3.1214737883283905  \n",
      "-RECORD 4----------------------------------------------------\n",
      " revenue_zone                          | 153                 \n",
      " revenue_month                         | 2020-01-01 00:00:00 \n",
      " service_type                          | green               \n",
      " revenue_monthly_fare                  | 4208.18             \n",
      " revenue_monthly_extra                 | 217.25              \n",
      " revenue_monthly_mta_tax               | 63.0                \n",
      " revenue_monthly_tip_amount            | 52.209999999999994  \n",
      " revenue_monthly_tolls_amount          | 112.95999999999998  \n",
      " revenue_monthly_improvement_surcharge | 54.30000000000008   \n",
      " revenue_monthly_total_amount          | 4723.85             \n",
      " total_monthly_trips                   | 204                 \n",
      " avg_monthly_passenger_count           | 1.3364485981308412  \n",
      " avg_monthly_trip_distance             | 4.7722549019607845  \n",
      "only showing top 5 rows\n",
      "\n"
     ]
    }
   ],
   "source": [
    "df_results.show(vertical=True,n=5)"
   ]
  },
  {
   "cell_type": "code",
   "execution_count": 27,
   "id": "f32a8d44-1934-43b0-8e32-dae13a126f35",
   "metadata": {},
   "outputs": [],
   "source": [
    "df_results.coalesce(1).write.parquet('data/report/revenue/', mode='overwrite')"
   ]
  },
  {
   "cell_type": "code",
   "execution_count": 28,
   "id": "d1eb13a1-728d-4f54-bf2a-3cddaa3c43c0",
   "metadata": {},
   "outputs": [],
   "source": [
    "df_results.write.parquet('data/report/revenue/2020/', mode='overwrite')"
   ]
  },
  {
   "cell_type": "code",
   "execution_count": null,
   "id": "9fa33558-92a8-492f-b1e0-ba98d00cb05a",
   "metadata": {},
   "outputs": [],
   "source": []
  }
 ],
 "metadata": {
  "kernelspec": {
   "display_name": "Python 3 (ipykernel)",
   "language": "python",
   "name": "python3"
  },
  "language_info": {
   "codemirror_mode": {
    "name": "ipython",
    "version": 3
   },
   "file_extension": ".py",
   "mimetype": "text/x-python",
   "name": "python",
   "nbconvert_exporter": "python",
   "pygments_lexer": "ipython3",
   "version": "3.11.1"
  }
 },
 "nbformat": 4,
 "nbformat_minor": 5
}
