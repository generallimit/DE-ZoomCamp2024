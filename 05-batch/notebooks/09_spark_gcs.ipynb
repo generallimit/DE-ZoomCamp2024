{
 "cells": [
  {
   "cell_type": "code",
   "execution_count": 1,
   "id": "2c04855f-7287-49c0-b2d3-1a3c0d25c9a4",
   "metadata": {},
   "outputs": [],
   "source": [
    "import pyspark\n",
    "from pyspark.sql import SparkSession, types\n",
    "from pyspark.sql import functions as F\n",
    "from pyspark.conf import SparkConf\n",
    "from pyspark.context import SparkContext"
   ]
  },
  {
   "cell_type": "code",
   "execution_count": 2,
   "id": "226520e7-0620-44d0-bd84-33ac63cf672b",
   "metadata": {},
   "outputs": [],
   "source": [
    "credentials_location = 'C:/Users/jeff/.google/credentials/astute-impulse-412600-d052f710560e_terra.json'\n",
    "\n",
    "conf = SparkConf() \\\n",
    "    .setMaster('local[*]') \\\n",
    "    .setAppName('test') \\\n",
    "    .set(\"spark.jars\", \".code/lib/gcs-connector-hadoop3-2.2.20-shaded.jar\") \\\n",
    "    .set(\"spark.hadoop.google.cloud.auth.service.account.enable\", \"true\") \\\n",
    "    .set(\"spark.hadoop.google.cloud.auth.service.account.json.keyfile\", credentials_location)"
   ]
  },
  {
   "cell_type": "code",
   "execution_count": 3,
   "id": "4e7df087-1dd6-44e9-9bfc-72a13b9f075d",
   "metadata": {},
   "outputs": [],
   "source": [
    "sc = SparkContext(conf=conf)\n",
    "hadoop_conf = sc._jsc.hadoopConfiguration()\n",
    "\n",
    "hadoop_conf.set(\"fs.AbstractFileSystem.gs.impl\",  \"com.google.cloud.hadoop.fs.gcs.GoogleHadoopFS\")\n",
    "hadoop_conf.set(\"fs.gs.impl\", \"com.google.cloud.hadoop.fs.gcs.GoogleHadoopFileSystem\")\n",
    "hadoop_conf.set(\"fs.gs.auth.service.account.json.keyfile\", credentials_location)\n",
    "hadoop_conf.set(\"fs.gs.auth.service.account.enable\", \"true\")"
   ]
  },
  {
   "cell_type": "code",
   "execution_count": 4,
   "id": "2c4aaf21-e09d-4f42-9e43-12a8d86a3684",
   "metadata": {},
   "outputs": [],
   "source": [
    "spark = SparkSession.builder \\\n",
    "    .config(conf=sc.getConf()) \\\n",
    "    .getOrCreate()"
   ]
  },
  {
   "cell_type": "code",
   "execution_count": 6,
   "id": "cad2fb74-56d7-4c96-844b-bb2f1c9a9de9",
   "metadata": {},
   "outputs": [],
   "source": [
    "df_green = spark.read.parquet('gs://astute-impulse-412600-mage-bucket/pq/pq/green/*/*')"
   ]
  },
  {
   "cell_type": "code",
   "execution_count": 8,
   "id": "c539aad1-f67f-4197-ad1d-3106113e07b0",
   "metadata": {},
   "outputs": [
    {
     "name": "stdout",
     "output_type": "stream",
     "text": [
      "-RECORD 0------------------------------------\n",
      " VendorID              | 2                   \n",
      " lpep_pickup_datetime  | 2020-01-22 16:17:49 \n",
      " lpep_dropoff_datetime | 2020-01-22 16:41:43 \n",
      " store_and_fwd_flag    | N                   \n",
      " RatecodeID            | 1                   \n",
      " PULocationID          | 25                  \n",
      " DOLocationID          | 125                 \n",
      " passenger_count       | 1                   \n",
      " trip_distance         | 3.69                \n",
      " fare_amount           | 17.5                \n",
      " extra                 | 1.0                 \n",
      " mta_tax               | 0.5                 \n",
      " tip_amount            | 4.41                \n",
      " tolls_amount          | 0.0                 \n",
      " ehail_fee             | NULL                \n",
      " improvement_surcharge | 0.3                 \n",
      " total_amount          | 26.46               \n",
      " payment_type          | 1                   \n",
      " trip_type             | 1                   \n",
      " congestion_surcharge  | 2.75                \n",
      "-RECORD 1------------------------------------\n",
      " VendorID              | NULL                \n",
      " lpep_pickup_datetime  | 2020-01-29 13:59:00 \n",
      " lpep_dropoff_datetime | 2020-01-29 14:25:00 \n",
      " store_and_fwd_flag    | NULL                \n",
      " RatecodeID            | NULL                \n",
      " PULocationID          | 223                 \n",
      " DOLocationID          | 73                  \n",
      " passenger_count       | NULL                \n",
      " trip_distance         | 7.36                \n",
      " fare_amount           | 30.3                \n",
      " extra                 | 2.75                \n",
      " mta_tax               | 0.5                 \n",
      " tip_amount            | 0.0                 \n",
      " tolls_amount          | 0.0                 \n",
      " ehail_fee             | NULL                \n",
      " improvement_surcharge | 0.3                 \n",
      " total_amount          | 33.85               \n",
      " payment_type          | NULL                \n",
      " trip_type             | NULL                \n",
      " congestion_surcharge  | NULL                \n",
      "-RECORD 2------------------------------------\n",
      " VendorID              | 2                   \n",
      " lpep_pickup_datetime  | 2020-01-09 21:09:23 \n",
      " lpep_dropoff_datetime | 2020-01-09 21:22:48 \n",
      " store_and_fwd_flag    | N                   \n",
      " RatecodeID            | 1                   \n",
      " PULocationID          | 33                  \n",
      " DOLocationID          | 181                 \n",
      " passenger_count       | 1                   \n",
      " trip_distance         | 2.06                \n",
      " fare_amount           | 10.5                \n",
      " extra                 | 0.5                 \n",
      " mta_tax               | 0.5                 \n",
      " tip_amount            | 0.0                 \n",
      " tolls_amount          | 0.0                 \n",
      " ehail_fee             | NULL                \n",
      " improvement_surcharge | 0.3                 \n",
      " total_amount          | 11.8                \n",
      " payment_type          | 2                   \n",
      " trip_type             | 1                   \n",
      " congestion_surcharge  | 0.0                 \n",
      "-RECORD 3------------------------------------\n",
      " VendorID              | NULL                \n",
      " lpep_pickup_datetime  | 2020-01-02 12:20:00 \n",
      " lpep_dropoff_datetime | 2020-01-02 12:59:00 \n",
      " store_and_fwd_flag    | NULL                \n",
      " RatecodeID            | NULL                \n",
      " PULocationID          | 26                  \n",
      " DOLocationID          | 35                  \n",
      " passenger_count       | NULL                \n",
      " trip_distance         | 5.73                \n",
      " fare_amount           | 34.13               \n",
      " extra                 | 2.75                \n",
      " mta_tax               | 0.5                 \n",
      " tip_amount            | 0.0                 \n",
      " tolls_amount          | 0.0                 \n",
      " ehail_fee             | NULL                \n",
      " improvement_surcharge | 0.3                 \n",
      " total_amount          | 37.68               \n",
      " payment_type          | NULL                \n",
      " trip_type             | NULL                \n",
      " congestion_surcharge  | NULL                \n",
      "-RECORD 4------------------------------------\n",
      " VendorID              | 2                   \n",
      " lpep_pickup_datetime  | 2020-01-15 15:17:00 \n",
      " lpep_dropoff_datetime | 2020-01-15 15:24:43 \n",
      " store_and_fwd_flag    | N                   \n",
      " RatecodeID            | 1                   \n",
      " PULocationID          | 41                  \n",
      " DOLocationID          | 152                 \n",
      " passenger_count       | 1                   \n",
      " trip_distance         | 0.94                \n",
      " fare_amount           | 7.0                 \n",
      " extra                 | 0.0                 \n",
      " mta_tax               | 0.5                 \n",
      " tip_amount            | 0.0                 \n",
      " tolls_amount          | 0.0                 \n",
      " ehail_fee             | NULL                \n",
      " improvement_surcharge | 0.3                 \n",
      " total_amount          | 7.8                 \n",
      " payment_type          | 2                   \n",
      " trip_type             | 1                   \n",
      " congestion_surcharge  | 0.0                 \n",
      "only showing top 5 rows\n",
      "\n"
     ]
    }
   ],
   "source": [
    "df_green.show(vertical=True,n=5)"
   ]
  },
  {
   "cell_type": "code",
   "execution_count": 9,
   "id": "3709a6ac-2a46-4251-b5b0-89a17d516936",
   "metadata": {},
   "outputs": [
    {
     "data": {
      "text/plain": [
       "1734051"
      ]
     },
     "execution_count": 9,
     "metadata": {},
     "output_type": "execute_result"
    }
   ],
   "source": [
    "df_green.count()"
   ]
  },
  {
   "cell_type": "code",
   "execution_count": null,
   "id": "9fa33558-92a8-492f-b1e0-ba98d00cb05a",
   "metadata": {},
   "outputs": [],
   "source": []
  }
 ],
 "metadata": {
  "kernelspec": {
   "display_name": "Python 3 (ipykernel)",
   "language": "python",
   "name": "python3"
  },
  "language_info": {
   "codemirror_mode": {
    "name": "ipython",
    "version": 3
   },
   "file_extension": ".py",
   "mimetype": "text/x-python",
   "name": "python",
   "nbconvert_exporter": "python",
   "pygments_lexer": "ipython3",
   "version": "3.11.1"
  }
 },
 "nbformat": 4,
 "nbformat_minor": 5
}
